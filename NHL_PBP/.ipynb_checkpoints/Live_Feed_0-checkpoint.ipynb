{
 "cells": [
  {
   "cell_type": "code",
   "execution_count": 1,
   "metadata": {
    "id": "M4KIKVQ96UjG"
   },
   "outputs": [],
   "source": [
    "import json\n",
    "import urllib.request\n",
    "import time\n",
    "import tweepy as tp"
   ]
  },
  {
   "cell_type": "code",
   "execution_count": 2,
   "metadata": {
    "id": "v5flHwJk7G_0"
   },
   "outputs": [],
   "source": [
    "gameid = 2020020001\n",
    "gamedetail = []\n",
    "starturl = 'https://statsapi.web.nhl.com/api/v1/game/'\n",
    "endurl = '/feed/live.json'\n",
    "consumer_key = ''\n",
    "consumer_secret = ''\n",
    "access_token = ''\n",
    "access_secret = ''\n",
    "auth = tp.OAuthHandler(consumer_key, consumer_secret)\n",
    "auth.set_access_token(access_token, access_secret)\n",
    "api = tp.API(auth)"
   ]
  },
  {
   "cell_type": "code",
   "execution_count": 3,
   "metadata": {
    "id": "ySrOckz57Rsv"
   },
   "outputs": [
    {
     "name": "stdout",
     "output_type": "stream",
     "text": [
      "2020020506\n",
      "2020020507\n",
      "2020020508\n",
      "2020020509\n",
      "2020020510\n",
      "2020020511\n",
      "2020020512\n",
      "2020020513\n",
      "2020020514\n",
      "1\n",
      "2\n",
      "3\n",
      "4\n",
      "5\n",
      "6\n",
      "7\n",
      "8\n"
     ]
    },
    {
     "ename": "KeyboardInterrupt",
     "evalue": "",
     "output_type": "error",
     "traceback": [
      "\u001b[0;31m---------------------------------------------------------------------------\u001b[0m",
      "\u001b[0;31mKeyboardInterrupt\u001b[0m                         Traceback (most recent call last)",
      "\u001b[0;32m<ipython-input-3-7e4ef34c8e19>\u001b[0m in \u001b[0;36m<module>\u001b[0;34m\u001b[0m\n\u001b[1;32m     17\u001b[0m         \u001b[0mprint\u001b[0m\u001b[0;34m(\u001b[0m\u001b[0mx\u001b[0m\u001b[0;34m)\u001b[0m\u001b[0;34m\u001b[0m\u001b[0;34m\u001b[0m\u001b[0m\n\u001b[1;32m     18\u001b[0m         \u001b[0mx\u001b[0m\u001b[0;34m=\u001b[0m\u001b[0mx\u001b[0m\u001b[0;34m+\u001b[0m\u001b[0;36m1\u001b[0m\u001b[0;34m\u001b[0m\u001b[0;34m\u001b[0m\u001b[0m\n\u001b[0;32m---> 19\u001b[0;31m         \u001b[0mtime\u001b[0m\u001b[0;34m.\u001b[0m\u001b[0msleep\u001b[0m\u001b[0;34m(\u001b[0m\u001b[0;36m5\u001b[0m\u001b[0;34m)\u001b[0m\u001b[0;34m\u001b[0m\u001b[0;34m\u001b[0m\u001b[0m\n\u001b[0m\u001b[1;32m     20\u001b[0m         \u001b[0mpullurl\u001b[0m \u001b[0;34m=\u001b[0m \u001b[0mstarturl\u001b[0m \u001b[0;34m+\u001b[0m \u001b[0mstr\u001b[0m\u001b[0;34m(\u001b[0m\u001b[0mgameid\u001b[0m\u001b[0;34m)\u001b[0m \u001b[0;34m+\u001b[0m \u001b[0mendurl\u001b[0m\u001b[0;34m\u001b[0m\u001b[0;34m\u001b[0m\u001b[0m\n\u001b[1;32m     21\u001b[0m         \u001b[0;32mwith\u001b[0m \u001b[0murllib\u001b[0m\u001b[0;34m.\u001b[0m\u001b[0mrequest\u001b[0m\u001b[0;34m.\u001b[0m\u001b[0murlopen\u001b[0m\u001b[0;34m(\u001b[0m\u001b[0mpullurl\u001b[0m\u001b[0;34m)\u001b[0m \u001b[0;32mas\u001b[0m \u001b[0murl\u001b[0m\u001b[0;34m:\u001b[0m\u001b[0;34m\u001b[0m\u001b[0;34m\u001b[0m\u001b[0m\n",
      "\u001b[0;31mKeyboardInterrupt\u001b[0m: "
     ]
    }
   ],
   "source": [
    "while gameid <= 2020021000:\n",
    "    gameid += 1\n",
    "    pullurl = starturl + str(gameid) + endurl\n",
    "    with urllib.request.urlopen(pullurl) as url:\n",
    "        obj = json.loads(url.read().decode())\n",
    "    print(f'{gameid}-{obj[\"gameData\"][\"status\"][\"abstractGameState\"]}')\n",
    "    allPlays = obj[\"liveData\"][\"plays\"]['allPlays']\n",
    "    teamStats = obj[\"liveData\"][\"boxscore\"][\"teams\"]\n",
    "    game_date = obj[\"gameData\"][\"datetime\"][\"dateTime\"]\n",
    "    home_team = obj[\"gameData\"][\"teams\"][\"home\"][\"name\"]\n",
    "    away_team = obj[\"gameData\"][\"teams\"][\"away\"][\"name\"]\n",
    "    game_date = game_date.split(\"T\")[0]\n",
    "    # print(obj[\"gameData\"][\"status\"][\"abstractGameState\"])\n",
    "    x=1\n",
    "    while obj[\"gameData\"][\"status\"][\"abstractGameState\"] != \"Final\" and (home_team == 'Los Angeles Kings' or away_team == 'Los Angeles Kings'):\n",
    "        print(x)\n",
    "        x=x+1\n",
    "        time.sleep(5)\n",
    "        pullurl = starturl + str(gameid) + endurl\n",
    "        with urllib.request.urlopen(pullurl) as url:\n",
    "            obj = json.loads(url.read().decode())\n",
    "        allPlays = obj[\"liveData\"][\"plays\"]['allPlays']\n",
    "        for play in allPlays:\n",
    "            period = play['about']['period']\n",
    "            event = play['result']['event']\n",
    "            timeee = play['about']['periodTime']\n",
    "            description = play['result']['description']\n",
    "            if f'Period: {period}-{timeee}, {event}' not in gamedetail:\n",
    "                print(f'Period: {period}-{timeee}, {event}-{description}')\n",
    "                gamedetail.append(f'Period: {period}-{timeee}, {event}')\n",
    "                #api.update_status(f'Period: {period}-{timeee}, {event}-{description} #LAKings')\n",
    "                if event == 'Period Start':\n",
    "                    time.sleep(5)\n",
    "                    with urllib.request.urlopen(pullurl) as url:\n",
    "                        obj = json.loads(url.read().decode())\n",
    "                    homescore = teamStats['home']['teamStats']['teamSkaterStats']['goals']\n",
    "                    awayscore = teamStats['away']['teamStats']['teamSkaterStats']['goals']\n",
    "                    print(f'Score: {home_team}-{homescore}, {away_team}-{awayscore} #LAKings')\n",
    "                    #api.update_status(f'Score: {home_team}-{homescore}, {away_team}-{awayscore} #LAKings')\n",
    "                if event == 'Period End':\n",
    "                    time.sleep(5)\n",
    "                    with urllib.request.urlopen(pullurl) as url:\n",
    "                        obj = json.loads(url.read().decode())\n",
    "                    homescore = teamStats['home']['teamStats']['teamSkaterStats']['goals']\n",
    "                    awayscore = teamStats['away']['teamStats']['teamSkaterStats']['goals']\n",
    "                    print(f'Score: {home_team}-{homescore}, {away_team}-{awayscore} #LAKings')\n",
    "                    #api.update_status(f'Score: {home_team}-{homescore}, {away_team}-{awayscore} #LAKings')\n",
    "                time.sleep(8)"
   ]
  },
  {
   "cell_type": "code",
   "execution_count": null,
   "metadata": {
    "colab": {
     "base_uri": "https://localhost:8080/"
    },
    "id": "2EcazGRb71l_",
    "outputId": "c63ca55d-49a6-495a-cfd9-d0b068383067"
   },
   "outputs": [],
   "source": []
  }
 ],
 "metadata": {
  "colab": {
   "name": "Untitled1.ipynb",
   "provenance": []
  },
  "kernelspec": {
   "display_name": "Python 3",
   "language": "python",
   "name": "python3"
  },
  "language_info": {
   "codemirror_mode": {
    "name": "ipython",
    "version": 3
   },
   "file_extension": ".py",
   "mimetype": "text/x-python",
   "name": "python",
   "nbconvert_exporter": "python",
   "pygments_lexer": "ipython3",
   "version": "3.8.5"
  }
 },
 "nbformat": 4,
 "nbformat_minor": 1
}
