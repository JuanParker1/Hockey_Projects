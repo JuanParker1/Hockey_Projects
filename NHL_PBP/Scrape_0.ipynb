{
 "cells": [
  {
   "cell_type": "code",
   "execution_count": null,
   "metadata": {},
   "outputs": [],
   "source": [
    "import json\n",
    "import urllib.request\n",
    "import pandas as pd"
   ]
  },
  {
   "cell_type": "code",
   "execution_count": null,
   "metadata": {},
   "outputs": [],
   "source": [
    "gameid = 2014020001\n",
    "starturl = 'https://statsapi.web.nhl.com/api/v1/game/'\n",
    "endurl = '/feed/live.json'"
   ]
  },
  {
   "cell_type": "code",
   "execution_count": null,
   "metadata": {},
   "outputs": [],
   "source": [
    "pullurl = starturl + str(gameid) + endurl\n",
    "pullurl\n",
    "gamelog = []"
   ]
  },
  {
   "cell_type": "code",
   "execution_count": null,
   "metadata": {
    "scrolled": true
   },
   "outputs": [],
   "source": [
    "while gameid <= 2014022000:\n",
    "    try:\n",
    "        pullurl = starturl + str(gameid) + endurl\n",
    "        with urllib.request.urlopen(pullurl) as url:\n",
    "            obj = json.loads(url.read().decode())\n",
    "        allPlays = obj[\"liveData\"][\"plays\"]['allPlays']\n",
    "        if obj[\"gameData\"][\"status\"][\"abstractGameState\"] == \"Final\":\n",
    "            print(gameid)\n",
    "            for play in allPlays:\n",
    "                d4 = play['result']\n",
    "                try:\n",
    "                    d4.update(play['about'])\n",
    "                except:\n",
    "                    ok = 0\n",
    "                try:\n",
    "                    d4.update(play[\"coordinates\"])\n",
    "                except:\n",
    "                    ok = 0\n",
    "                try:\n",
    "                    d4.update(play[\"players\"])\n",
    "                except:\n",
    "                    ok = 0\n",
    "                try:\n",
    "                    d4.update(play[\"team\"])\n",
    "                except:\n",
    "                    ok = 0\n",
    "                gamelog.append(d4)\n",
    "    except:\n",
    "        print(f'Nope {gameid}')\n",
    "    gameid +=1\n",
    "        #print(gamelog)"
   ]
  },
  {
   "cell_type": "code",
   "execution_count": null,
   "metadata": {},
   "outputs": [],
   "source": [
    "df = pd.DataFrame(gamelog)\n",
    "df"
   ]
  },
  {
   "cell_type": "code",
   "execution_count": null,
   "metadata": {},
   "outputs": [],
   "source": [
    "locationdf = df[df.x.notnull()]\n",
    "locationdf"
   ]
  },
  {
   "cell_type": "code",
   "execution_count": null,
   "metadata": {},
   "outputs": [],
   "source": [
    "locationdf.to_excel(\"output.xlsx\",sheet_name='Sheet_name_1') "
   ]
  },
  {
   "cell_type": "code",
   "execution_count": null,
   "metadata": {},
   "outputs": [],
   "source": []
  },
  {
   "cell_type": "code",
   "execution_count": null,
   "metadata": {},
   "outputs": [],
   "source": []
  }
 ],
 "metadata": {
  "kernelspec": {
   "display_name": "Python 3",
   "language": "python",
   "name": "python3"
  },
  "language_info": {
   "codemirror_mode": {
    "name": "ipython",
    "version": 3
   },
   "file_extension": ".py",
   "mimetype": "text/x-python",
   "name": "python",
   "nbconvert_exporter": "python",
   "pygments_lexer": "ipython3",
   "version": "3.8.5"
  }
 },
 "nbformat": 4,
 "nbformat_minor": 4
}
