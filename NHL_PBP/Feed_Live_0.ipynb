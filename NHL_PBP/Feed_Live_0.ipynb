{
 "cells": [
  {
   "cell_type": "code",
   "execution_count": 9,
   "metadata": {
    "id": "M4KIKVQ96UjG"
   },
   "outputs": [],
   "source": [
    "import json\n",
    "import urllib.request\n",
    "import time\n",
    "import datetime\n",
    "today = datetime.date.today()\n",
    "import tweepy as tp\n",
    "from config import consumer_key,consumer_secret,access_token,access_secret"
   ]
  },
  {
   "cell_type": "code",
   "execution_count": 10,
   "metadata": {
    "id": "v5flHwJk7G_0"
   },
   "outputs": [],
   "source": [
    "gameid = 2021020180\n",
    "gamedetail = []\n",
    "starturl = 'https://statsapi.web.nhl.com/api/v1/game/'\n",
    "endurl = '/feed/live.json'\n",
    "\n",
    "auth = tp.OAuthHandler(consumer_key, consumer_secret)\n",
    "auth.set_access_token(access_token, access_secret)\n",
    "api = tp.API(auth)"
   ]
  },
  {
   "cell_type": "code",
   "execution_count": 11,
   "metadata": {
    "scrolled": true
   },
   "outputs": [
    {
     "data": {
      "text/plain": [
       "'https://statsapi.web.nhl.com/api/v1/game/2021020180/feed/live.json'"
      ]
     },
     "execution_count": 11,
     "metadata": {},
     "output_type": "execute_result"
    }
   ],
   "source": [
    "# time.sleep(32400)\n",
    "pullurl = starturl + str(gameid) + endurl\n",
    "pullurl"
   ]
  },
  {
   "cell_type": "code",
   "execution_count": 12,
   "metadata": {
    "id": "ySrOckz57Rsv"
   },
   "outputs": [
    {
     "name": "stdout",
     "output_type": "stream",
     "text": [
      "2021020180-Final-2021-11-09-2021-11-09 -- New York Rangers vs Florida Panthers\n",
      "2021020181-Final-2021-11-09-2021-11-09 -- Washington Capitals vs Buffalo Sabres\n",
      "2021020182-Preview-2021-11-10-2021-11-09 -- Boston Bruins vs Ottawa Senators\n",
      "2021020183-Preview-2021-11-10-2021-11-09 -- Montréal Canadiens vs Los Angeles Kings\n",
      "2021020184-Preview-2021-11-10-2021-11-09 -- Detroit Red Wings vs Edmonton Oilers\n",
      "2021020185-Preview-2021-11-10-2021-11-09 -- Tampa Bay Lightning vs Carolina Hurricanes\n",
      "2021020186-Preview-2021-11-10-2021-11-09 -- New Jersey Devils vs Florida Panthers\n",
      "2021020187-Preview-2021-11-10-2021-11-09 -- Chicago Blackhawks vs Pittsburgh Penguins\n",
      "2021020188-Preview-2021-11-10-2021-11-09 -- Winnipeg Jets vs St. Louis Blues\n",
      "2021020189-Preview-2021-11-10-2021-11-09 -- Calgary Flames vs San Jose Sharks\n",
      "2021020190-Preview-2021-11-10-2021-11-09 -- Vancouver Canucks vs Anaheim Ducks\n",
      "2021020191-Preview-2021-11-10-2021-11-09 -- Vegas Golden Knights vs Seattle Kraken\n",
      "2021020192-Preview-2021-11-11-2021-11-09 -- Philadelphia Flyers vs Toronto Maple Leafs\n",
      "2021020193-Preview-2021-11-11-2021-11-09 -- Dallas Stars vs Nashville Predators\n",
      "2021020194-Preview-2021-11-11-2021-11-09 -- Arizona Coyotes vs Minnesota Wild\n",
      "2021020195-Preview-2021-11-12-2021-11-09 -- Boston Bruins vs Edmonton Oilers\n",
      "2021020196-Preview-2021-11-12-2021-11-09 -- Montréal Canadiens vs Calgary Flames\n",
      "2021020197-Preview-2021-11-12-2021-11-09 -- Ottawa Senators vs Los Angeles Kings\n",
      "2021020198-Preview-2021-11-12-2021-11-09 -- Detroit Red Wings vs Washington Capitals\n",
      "2021020199-Preview-2021-11-12-2021-11-09 -- New Jersey Devils vs New York Islanders\n",
      "2021020200-Preview-2021-11-12-2021-11-09 -- Pittsburgh Penguins vs Florida Panthers\n",
      "2021020201-Preview-2021-11-12-2021-11-09 -- St. Louis Blues vs Nashville Predators\n",
      "2021020202-Preview-2021-11-12-2021-11-09 -- Winnipeg Jets vs San Jose Sharks\n",
      "2021020203-Preview-2021-11-12-2021-11-09 -- Colorado Avalanche vs Vancouver Canucks\n",
      "2021020204-Preview-2021-11-12-2021-11-09 -- Vegas Golden Knights vs Minnesota Wild\n",
      "2021020205-Preview-2021-11-12-2021-11-09 -- Seattle Kraken vs Anaheim Ducks\n",
      "2021020206-Preview-2021-11-13-2021-11-09 -- Buffalo Sabres vs Edmonton Oilers\n",
      "2021020207-Preview-2021-11-13-2021-11-09 -- Toronto Maple Leafs vs Calgary Flames\n",
      "2021020208-Preview-2021-11-13-2021-11-09 -- Carolina Hurricanes vs Philadelphia Flyers\n",
      "2021020209-Preview-2021-11-13-2021-11-09 -- Columbus Blue Jackets vs Washington Capitals\n",
      "2021020210-Preview-2021-11-13-2021-11-09 -- Chicago Blackhawks vs Arizona Coyotes\n",
      "2021020211-Preview-2021-11-14-2021-11-09 -- Buffalo Sabres vs Toronto Maple Leafs\n",
      "2021020212-Preview-2021-11-14-2021-11-09 -- Ottawa Senators vs Pittsburgh Penguins\n",
      "2021020213-Preview-2021-11-14-2021-11-09 -- Detroit Red Wings vs Montréal Canadiens\n",
      "2021020214-Preview-2021-11-14-2021-11-09 -- Tampa Bay Lightning vs Florida Panthers\n",
      "2021020215-Preview-2021-11-13-2021-11-09 -- New Jersey Devils vs Boston Bruins\n",
      "2021020216-Preview-2021-11-14-2021-11-09 -- Carolina Hurricanes vs St. Louis Blues\n",
      "2021020217-Preview-2021-11-14-2021-11-09 -- Columbus Blue Jackets vs New York Rangers\n"
     ]
    }
   ],
   "source": [
    "while gameid <= 2021020217:\n",
    "    pullurl = starturl + str(gameid) + endurl\n",
    "    with urllib.request.urlopen(pullurl) as url:\n",
    "        obj = json.loads(url.read().decode())\n",
    "    allPlays = obj[\"liveData\"][\"plays\"]['allPlays']\n",
    "    teamStats = obj[\"liveData\"][\"boxscore\"][\"teams\"]\n",
    "    game_date = obj[\"gameData\"][\"datetime\"][\"dateTime\"]\n",
    "    home_team = obj[\"gameData\"][\"teams\"][\"home\"][\"name\"]\n",
    "    away_team = obj[\"gameData\"][\"teams\"][\"away\"][\"name\"]\n",
    "    game_date = game_date.split(\"T\")[0]\n",
    "    tomorrow = today + datetime.timedelta(days = 1)\n",
    "    print(f'{gameid}-{obj[\"gameData\"][\"status\"][\"abstractGameState\"]}-{game_date}-{tomorrow} -- {home_team} vs {away_team}')\n",
    "    # print(obj[\"gameData\"][\"status\"][\"abstractGameState\"])\n",
    "    x=1\n",
    "    period = 1\n",
    "    while obj[\"gameData\"][\"status\"][\"abstractGameState\"] != \"Final\" and (home_team == 'Los Angeles Kings' or away_team == 'Los Angeles Kings') and str(game_date) == str(tomorrow):\n",
    "        #print(x)\n",
    "        #x=x+1\n",
    "        pullurl = starturl + str(gameid) + endurl\n",
    "        try:\n",
    "            with urllib.request.urlopen(pullurl) as url:\n",
    "                obj = json.loads(url.read().decode())\n",
    "        except:\n",
    "            print(f'The URL is broke, bruh. Try again.')\n",
    "        allPlays = obj[\"liveData\"][\"plays\"]['allPlays']\n",
    "        if period < 3:\n",
    "            time.sleep(5)\n",
    "        hometeamscore = 0\n",
    "        awayteamscore = 0\n",
    "        for play in allPlays:\n",
    "            period = play['about']['period']\n",
    "            event = play['result']['event']\n",
    "            timeee = play['about']['periodTime']\n",
    "            description = play['result']['description']\n",
    "            if event == 'Goal':\n",
    "                if str(home_team) == 'Los Angeles Kings':\n",
    "                    if play['team']['name'] == 'Los Angeles Kings':\n",
    "                        hometeamscore += 1\n",
    "                    else:\n",
    "                        awayteamscore += 1\n",
    "                if str(home_team) != 'Los Angeles Kings':\n",
    "                    if play['team']['name'] != 'Los Angeles Kings':\n",
    "                        hometeamscore += 1\n",
    "                    else:\n",
    "                        awayteamscore += 1\n",
    "            if f'Period: {period}-{timeee}, {event}' not in gamedetail:\n",
    "                gamedetail.append(f'Period: {period}-{timeee}, {event}')\n",
    "                if event == 'Period Ready' or event == 'Hit' or event == 'Giveaway' or event == 'Takeaway' or event == 'Game Scheduled':\n",
    "                    print(f'NOT TWEETED---Period: {period}-{timeee}, {event}-{description}')\n",
    "                    #Period Ready\n",
    "                    #Giveaway\n",
    "                    #Takeaway\n",
    "                    #Hit\n",
    "                #elif event == 'Game Scheduled':\n",
    "                    #homescore = teamStats['home']['teamStats']['teamSkaterStats']['goals']\n",
    "                    #awayscore = teamStats['away']['teamStats']['teamSkaterStats']['goals']\n",
    "                    #print(f'Scheduled Game: {home_team} at {away_team} #GoKingsGo')\n",
    "                    #api.update_status(f'Scheduled Game: {home_team} versus {away_team} #GoKingsGo')\n",
    "                    #time.sleep(8)\n",
    "                elif event == 'Period Start':\n",
    "                    try:\n",
    "                        api.update_status(f'Period Starting: {period} --- Score: {home_team}-{hometeamscore}, {away_team}-{awayteamscore} #GoKingsGo')\n",
    "                        print(f'Period Starting: {period} --- Score: {home_team}-{hometeamscore}, {away_team}-{awayteamscore} #GoKingsGo')\n",
    "                    except:\n",
    "                        print(f'FAILED TO TWEET --- Period Starting: {period} --- Score: {home_team}-{hometeamscore}, {away_team}-{awayteamscore} #GoKingsGo')\n",
    "                    time.sleep(8)\n",
    "                    #Period Start\n",
    "                elif event == 'Faceoff' or event == 'Blocked Shot' or event == 'Stoppage' or event == 'Period Official' or event == 'Game End' or event == 'Game Official' or event == 'Shot' or event == 'Penalty' or event == 'Missed Shot' :\n",
    "                    try:\n",
    "                        api.update_status(f'Period: {period}-{timeee}, {event}-{description} #GoKingsGo')\n",
    "                        print(f'Period: {period}-{timeee}, {event}-{description} #GoKingsGo')\n",
    "                    except:\n",
    "                        print(f'FAILED TO TWEET -- Period: {period}-{timeee}, {event}-{description} #GoKingsGo')\n",
    "                    time.sleep(8)\n",
    "                    #Faceoff\n",
    "                    #Blocked Shot\n",
    "                    #Shot\n",
    "                    #Penalty\n",
    "                    #Missed Shot\n",
    "                    #Stoppage\n",
    "                    #Period Official\n",
    "                    #Game End\n",
    "                    #Game Official\n",
    "                elif event == 'Goal':\n",
    "                    try:\n",
    "                        api.update_status(f'Period: {period}-{timeee}, Score: {home_team}-{hometeamscore} ~ {away_team}-{awayteamscore}, {event}-{description}, #GoKingsGo')\n",
    "                        print(f'Period: {period}-{timeee}, Score: {home_team}-{hometeamscore} ~ {away_team}-{awayteamscore}, {event}-{description}, #GoKingsGo')\n",
    "                    except:\n",
    "                        print(f'FAILED TO TWEET --- Period: {period}-{timeee}, Score: {home_team}-{hometeamscore} ~ {away_team}-{awayteamscore}, {event}-{description}, #GoKingsGo')\n",
    "                    time.sleep(8)\n",
    "                    #Goal\n",
    "                elif event == 'Period End' and (period == 1 or period == 2):\n",
    "                    try:\n",
    "                        api.update_status(f'Period {period} End --- Score: {home_team}-{hometeamscore}, {away_team}-{awayteamscore} #GoKingsGo')\n",
    "                        print(f'Period {period} End --- Score: {home_team}-{hometeamscore}, {away_team}-{awayteamscore} #GoKingsGo')\n",
    "                    except:\n",
    "                        print(f'FAILED TO TWEET --- Period {period} End --- Score: {home_team}-{hometeamscore}, {away_team}-{awayteamscore} #GoKingsGo')\n",
    "                    time.sleep(1080)\n",
    "                    #Period End\n",
    "                elif event == 'Period End' and (period == 3):\n",
    "                    try:\n",
    "                        api.update_status(f'End of Regulation --- Score: {home_team}-{hometeamscore}, {away_team}-{awayteamscore} #GoKingsGo')\n",
    "                        print(f'End of Regulation --- Score: {home_team}-{hometeamscore}, {away_team}-{awayteamscore} #GoKingsGo')\n",
    "                    except:\n",
    "                        print(f'FAILED TO TWEET --- End of Regulation --- Score: {home_team}-{hometeamscore}, {away_team}-{awayteamscore} #GoKingsGo')\n",
    "                    time.sleep(8)\n",
    "                elif event == 'Period End' and (period == 4):\n",
    "                    try:\n",
    "                        api.update_status(f'End of Overtime --- Score: {home_team}-{hometeamscore}, {away_team}-{awayteamscore} #GoKingsGo')\n",
    "                        print(f'End of Overtime --- Score: {home_team}-{hometeamscore}, {away_team}-{awayteamscore} #GoKingsGo')\n",
    "                    except:\n",
    "                        print(f'FAILED TO TWEET --- End of Overtime --- Score: {home_team}-{hometeamscore}, {away_team}-{awayteamscore} #GoKingsGo')\n",
    "                    time.sleep(8)\n",
    "                else:\n",
    "                    time.sleep(0)\n",
    "        print(f'{home_team}-{hometeamscore}, {away_team}-{awayteamscore}')\n",
    "    gameid += 1"
   ]
  },
  {
   "cell_type": "code",
   "execution_count": 13,
   "metadata": {
    "colab": {
     "base_uri": "https://localhost:8080/"
    },
    "id": "2EcazGRb71l_",
    "outputId": "c63ca55d-49a6-495a-cfd9-d0b068383067",
    "scrolled": true
   },
   "outputs": [],
   "source": [
    "#api.update_status(f'Test')\n",
    "for play in allPlays:\n",
    "    if f'Period: {period}-{timeee}, {event}' not in gamedetail:\n",
    "        gamedetail.append(f'Period: {period}-{timeee}, {event}')\n",
    "        print(play)"
   ]
  },
  {
   "cell_type": "code",
   "execution_count": 6,
   "metadata": {},
   "outputs": [],
   "source": [
    "# gameid = 2020020481\n",
    "# gamedetail = []\n",
    "# pullurl = starturl + str(gameid) + endurl\n",
    "# with urllib.request.urlopen(pullurl) as url:\n",
    "#     obj = json.loads(url.read().decode())\n",
    "# allPlays = obj[\"liveData\"][\"plays\"]['allPlays']\n",
    "# for play in allPlays:\n",
    "#     event = play['result']['event']\n",
    "#     if event not in gamedetail:\n",
    "#         print(event)\n",
    "#         gamedetail.append(event)"
   ]
  },
  {
   "cell_type": "code",
   "execution_count": 7,
   "metadata": {},
   "outputs": [],
   "source": [
    "# currenttt = time.localtime(time.time() + 24*3600)\n",
    "# currenttt"
   ]
  },
  {
   "cell_type": "code",
   "execution_count": null,
   "metadata": {},
   "outputs": [],
   "source": [
    "import random as rnd\n",
    "for i in range(100):\n",
    "    print(f'{rnd.gauss(100,15)}')\n",
    "    "
   ]
  },
  {
   "cell_type": "code",
   "execution_count": null,
   "metadata": {},
   "outputs": [],
   "source": [
    "for i in range(100):\n",
    "    print(f'{rnd.randint(1,100000)}')\n",
    "    "
   ]
  },
  {
   "cell_type": "code",
   "execution_count": null,
   "metadata": {},
   "outputs": [],
   "source": [
    " cafMiq-sabmu4-qekwyw"
   ]
  }
 ],
 "metadata": {
  "colab": {
   "name": "Untitled1.ipynb",
   "provenance": []
  },
  "kernelspec": {
   "display_name": "Python 3",
   "language": "python",
   "name": "python3"
  },
  "language_info": {
   "codemirror_mode": {
    "name": "ipython",
    "version": 3
   },
   "file_extension": ".py",
   "mimetype": "text/x-python",
   "name": "python",
   "nbconvert_exporter": "python",
   "pygments_lexer": "ipython3",
   "version": "3.8.5"
  }
 },
 "nbformat": 4,
 "nbformat_minor": 1
}
